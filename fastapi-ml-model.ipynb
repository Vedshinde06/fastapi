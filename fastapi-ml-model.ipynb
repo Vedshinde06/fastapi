{
 "cells": [
  {
   "cell_type": "code",
   "execution_count": 1,
   "id": "0a49475c",
   "metadata": {
    "_cell_guid": "b1076dfc-b9ad-4769-8c92-a6c4dae69d19",
    "_uuid": "8f2839f25d086af736a60e9eeb907d3b93b6e0e5",
    "execution": {
     "iopub.execute_input": "2025-07-17T11:27:09.589004Z",
     "iopub.status.busy": "2025-07-17T11:27:09.588721Z",
     "iopub.status.idle": "2025-07-17T11:27:11.374621Z",
     "shell.execute_reply": "2025-07-17T11:27:11.373695Z"
    },
    "papermill": {
     "duration": 1.790607,
     "end_time": "2025-07-17T11:27:11.376080",
     "exception": false,
     "start_time": "2025-07-17T11:27:09.585473",
     "status": "completed"
    },
    "tags": []
   },
   "outputs": [
    {
     "name": "stdout",
     "output_type": "stream",
     "text": [
      "/kaggle/input/healthcare-insurance/insurance.csv\n"
     ]
    }
   ],
   "source": [
    "# This Python 3 environment comes with many helpful analytics libraries installed\n",
    "# It is defined by the kaggle/python Docker image: https://github.com/kaggle/docker-python\n",
    "# For example, here's several helpful packages to load\n",
    "\n",
    "import numpy as np # linear algebra\n",
    "import pandas as pd # data processing, CSV file I/O (e.g. pd.read_csv)\n",
    "\n",
    "# Input data files are available in the read-only \"../input/\" directory\n",
    "# For example, running this (by clicking run or pressing Shift+Enter) will list all files under the input directory\n",
    "\n",
    "import os\n",
    "for dirname, _, filenames in os.walk('/kaggle/input'):\n",
    "    for filename in filenames:\n",
    "        print(os.path.join(dirname, filename))\n",
    "\n",
    "# You can write up to 20GB to the current directory (/kaggle/working/) that gets preserved as output when you create a version using \"Save & Run All\" \n",
    "# You can also write temporary files to /kaggle/temp/, but they won't be saved outside of the current session"
   ]
  },
  {
   "cell_type": "code",
   "execution_count": 2,
   "id": "e669aa15",
   "metadata": {
    "execution": {
     "iopub.execute_input": "2025-07-17T11:27:11.380961Z",
     "iopub.status.busy": "2025-07-17T11:27:11.380590Z",
     "iopub.status.idle": "2025-07-17T11:27:11.408917Z",
     "shell.execute_reply": "2025-07-17T11:27:11.408201Z"
    },
    "papermill": {
     "duration": 0.032296,
     "end_time": "2025-07-17T11:27:11.410375",
     "exception": false,
     "start_time": "2025-07-17T11:27:11.378079",
     "status": "completed"
    },
    "tags": []
   },
   "outputs": [],
   "source": [
    "df = pd.read_csv('/kaggle/input/healthcare-insurance/insurance.csv')"
   ]
  },
  {
   "cell_type": "code",
   "execution_count": 3,
   "id": "7c56a972",
   "metadata": {
    "execution": {
     "iopub.execute_input": "2025-07-17T11:27:11.414730Z",
     "iopub.status.busy": "2025-07-17T11:27:11.414456Z",
     "iopub.status.idle": "2025-07-17T11:27:11.445142Z",
     "shell.execute_reply": "2025-07-17T11:27:11.444277Z"
    },
    "papermill": {
     "duration": 0.034507,
     "end_time": "2025-07-17T11:27:11.446637",
     "exception": false,
     "start_time": "2025-07-17T11:27:11.412130",
     "status": "completed"
    },
    "tags": []
   },
   "outputs": [
    {
     "data": {
      "text/html": [
       "<div>\n",
       "<style scoped>\n",
       "    .dataframe tbody tr th:only-of-type {\n",
       "        vertical-align: middle;\n",
       "    }\n",
       "\n",
       "    .dataframe tbody tr th {\n",
       "        vertical-align: top;\n",
       "    }\n",
       "\n",
       "    .dataframe thead th {\n",
       "        text-align: right;\n",
       "    }\n",
       "</style>\n",
       "<table border=\"1\" class=\"dataframe\">\n",
       "  <thead>\n",
       "    <tr style=\"text-align: right;\">\n",
       "      <th></th>\n",
       "      <th>age</th>\n",
       "      <th>sex</th>\n",
       "      <th>bmi</th>\n",
       "      <th>children</th>\n",
       "      <th>smoker</th>\n",
       "      <th>region</th>\n",
       "      <th>charges</th>\n",
       "    </tr>\n",
       "  </thead>\n",
       "  <tbody>\n",
       "    <tr>\n",
       "      <th>695</th>\n",
       "      <td>26</td>\n",
       "      <td>female</td>\n",
       "      <td>40.185</td>\n",
       "      <td>0</td>\n",
       "      <td>no</td>\n",
       "      <td>northwest</td>\n",
       "      <td>3201.24515</td>\n",
       "    </tr>\n",
       "    <tr>\n",
       "      <th>917</th>\n",
       "      <td>45</td>\n",
       "      <td>male</td>\n",
       "      <td>22.895</td>\n",
       "      <td>0</td>\n",
       "      <td>yes</td>\n",
       "      <td>northeast</td>\n",
       "      <td>35069.37452</td>\n",
       "    </tr>\n",
       "    <tr>\n",
       "      <th>550</th>\n",
       "      <td>63</td>\n",
       "      <td>male</td>\n",
       "      <td>30.800</td>\n",
       "      <td>0</td>\n",
       "      <td>no</td>\n",
       "      <td>southwest</td>\n",
       "      <td>13390.55900</td>\n",
       "    </tr>\n",
       "    <tr>\n",
       "      <th>611</th>\n",
       "      <td>38</td>\n",
       "      <td>female</td>\n",
       "      <td>34.800</td>\n",
       "      <td>2</td>\n",
       "      <td>no</td>\n",
       "      <td>southwest</td>\n",
       "      <td>6571.54400</td>\n",
       "    </tr>\n",
       "    <tr>\n",
       "      <th>946</th>\n",
       "      <td>42</td>\n",
       "      <td>male</td>\n",
       "      <td>35.800</td>\n",
       "      <td>2</td>\n",
       "      <td>no</td>\n",
       "      <td>southwest</td>\n",
       "      <td>7160.09400</td>\n",
       "    </tr>\n",
       "  </tbody>\n",
       "</table>\n",
       "</div>"
      ],
      "text/plain": [
       "     age     sex     bmi  children smoker     region      charges\n",
       "695   26  female  40.185         0     no  northwest   3201.24515\n",
       "917   45    male  22.895         0    yes  northeast  35069.37452\n",
       "550   63    male  30.800         0     no  southwest  13390.55900\n",
       "611   38  female  34.800         2     no  southwest   6571.54400\n",
       "946   42    male  35.800         2     no  southwest   7160.09400"
      ]
     },
     "execution_count": 3,
     "metadata": {},
     "output_type": "execute_result"
    }
   ],
   "source": [
    "df.sample(5)"
   ]
  },
  {
   "cell_type": "code",
   "execution_count": null,
   "id": "33606915",
   "metadata": {
    "papermill": {
     "duration": 0.00153,
     "end_time": "2025-07-17T11:27:11.450108",
     "exception": false,
     "start_time": "2025-07-17T11:27:11.448578",
     "status": "completed"
    },
    "tags": []
   },
   "outputs": [],
   "source": []
  }
 ],
 "metadata": {
  "kaggle": {
   "accelerator": "none",
   "dataSources": [
    {
     "datasetId": 3852935,
     "sourceId": 6678394,
     "sourceType": "datasetVersion"
    }
   ],
   "dockerImageVersionId": 31089,
   "isGpuEnabled": false,
   "isInternetEnabled": true,
   "language": "python",
   "sourceType": "notebook"
  },
  "kernelspec": {
   "display_name": "Python 3",
   "language": "python",
   "name": "python3"
  },
  "language_info": {
   "codemirror_mode": {
    "name": "ipython",
    "version": 3
   },
   "file_extension": ".py",
   "mimetype": "text/x-python",
   "name": "python",
   "nbconvert_exporter": "python",
   "pygments_lexer": "ipython3",
   "version": "3.11.13"
  },
  "papermill": {
   "default_parameters": {},
   "duration": 6.832084,
   "end_time": "2025-07-17T11:27:11.971075",
   "environment_variables": {},
   "exception": null,
   "input_path": "__notebook__.ipynb",
   "output_path": "__notebook__.ipynb",
   "parameters": {},
   "start_time": "2025-07-17T11:27:05.138991",
   "version": "2.6.0"
  }
 },
 "nbformat": 4,
 "nbformat_minor": 5
}
