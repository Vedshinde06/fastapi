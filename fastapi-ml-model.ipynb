{
 "cells": [
  {
   "cell_type": "code",
   "execution_count": 1,
   "id": "550a0838",
   "metadata": {
    "_cell_guid": "b1076dfc-b9ad-4769-8c92-a6c4dae69d19",
    "_uuid": "8f2839f25d086af736a60e9eeb907d3b93b6e0e5",
    "execution": {
     "iopub.execute_input": "2025-07-17T16:31:47.471925Z",
     "iopub.status.busy": "2025-07-17T16:31:47.471501Z",
     "iopub.status.idle": "2025-07-17T16:31:49.430238Z",
     "shell.execute_reply": "2025-07-17T16:31:49.429217Z"
    },
    "papermill": {
     "duration": 1.965051,
     "end_time": "2025-07-17T16:31:49.431829",
     "exception": false,
     "start_time": "2025-07-17T16:31:47.466778",
     "status": "completed"
    },
    "tags": []
   },
   "outputs": [
    {
     "name": "stdout",
     "output_type": "stream",
     "text": [
      "/kaggle/input/healthcare-insurance/insurance.csv\n"
     ]
    }
   ],
   "source": [
    "# This Python 3 environment comes with many helpful analytics libraries installed\n",
    "# It is defined by the kaggle/python Docker image: https://github.com/kaggle/docker-python\n",
    "# For example, here's several helpful packages to load\n",
    "\n",
    "import numpy as np # linear algebra\n",
    "import pandas as pd # data processing, CSV file I/O (e.g. pd.read_csv)\n",
    "\n",
    "# Input data files are available in the read-only \"../input/\" directory\n",
    "# For example, running this (by clicking run or pressing Shift+Enter) will list all files under the input directory\n",
    "\n",
    "import os\n",
    "for dirname, _, filenames in os.walk('/kaggle/input'):\n",
    "    for filename in filenames:\n",
    "        print(os.path.join(dirname, filename))\n",
    "\n",
    "# You can write up to 20GB to the current directory (/kaggle/working/) that gets preserved as output when you create a version using \"Save & Run All\" \n",
    "# You can also write temporary files to /kaggle/temp/, but they won't be saved outside of the current session"
   ]
  },
  {
   "cell_type": "code",
   "execution_count": 2,
   "id": "7613c12b",
   "metadata": {
    "execution": {
     "iopub.execute_input": "2025-07-17T16:31:49.439431Z",
     "iopub.status.busy": "2025-07-17T16:31:49.438547Z",
     "iopub.status.idle": "2025-07-17T16:31:49.462753Z",
     "shell.execute_reply": "2025-07-17T16:31:49.461957Z"
    },
    "papermill": {
     "duration": 0.029302,
     "end_time": "2025-07-17T16:31:49.464367",
     "exception": false,
     "start_time": "2025-07-17T16:31:49.435065",
     "status": "completed"
    },
    "tags": []
   },
   "outputs": [],
   "source": [
    "df = pd.read_csv('/kaggle/input/healthcare-insurance/insurance.csv')"
   ]
  },
  {
   "cell_type": "code",
   "execution_count": 3,
   "id": "138ea006",
   "metadata": {
    "execution": {
     "iopub.execute_input": "2025-07-17T16:31:49.471065Z",
     "iopub.status.busy": "2025-07-17T16:31:49.470772Z",
     "iopub.status.idle": "2025-07-17T16:31:49.504921Z",
     "shell.execute_reply": "2025-07-17T16:31:49.504030Z"
    },
    "papermill": {
     "duration": 0.039183,
     "end_time": "2025-07-17T16:31:49.506547",
     "exception": false,
     "start_time": "2025-07-17T16:31:49.467364",
     "status": "completed"
    },
    "tags": []
   },
   "outputs": [
    {
     "data": {
      "text/html": [
       "<div>\n",
       "<style scoped>\n",
       "    .dataframe tbody tr th:only-of-type {\n",
       "        vertical-align: middle;\n",
       "    }\n",
       "\n",
       "    .dataframe tbody tr th {\n",
       "        vertical-align: top;\n",
       "    }\n",
       "\n",
       "    .dataframe thead th {\n",
       "        text-align: right;\n",
       "    }\n",
       "</style>\n",
       "<table border=\"1\" class=\"dataframe\">\n",
       "  <thead>\n",
       "    <tr style=\"text-align: right;\">\n",
       "      <th></th>\n",
       "      <th>age</th>\n",
       "      <th>sex</th>\n",
       "      <th>bmi</th>\n",
       "      <th>children</th>\n",
       "      <th>smoker</th>\n",
       "      <th>region</th>\n",
       "      <th>charges</th>\n",
       "    </tr>\n",
       "  </thead>\n",
       "  <tbody>\n",
       "    <tr>\n",
       "      <th>759</th>\n",
       "      <td>18</td>\n",
       "      <td>male</td>\n",
       "      <td>38.170</td>\n",
       "      <td>0</td>\n",
       "      <td>yes</td>\n",
       "      <td>southeast</td>\n",
       "      <td>36307.79830</td>\n",
       "    </tr>\n",
       "    <tr>\n",
       "      <th>219</th>\n",
       "      <td>24</td>\n",
       "      <td>female</td>\n",
       "      <td>23.210</td>\n",
       "      <td>0</td>\n",
       "      <td>no</td>\n",
       "      <td>southeast</td>\n",
       "      <td>25081.76784</td>\n",
       "    </tr>\n",
       "    <tr>\n",
       "      <th>228</th>\n",
       "      <td>41</td>\n",
       "      <td>female</td>\n",
       "      <td>31.635</td>\n",
       "      <td>1</td>\n",
       "      <td>no</td>\n",
       "      <td>northeast</td>\n",
       "      <td>7358.17565</td>\n",
       "    </tr>\n",
       "    <tr>\n",
       "      <th>888</th>\n",
       "      <td>22</td>\n",
       "      <td>male</td>\n",
       "      <td>39.500</td>\n",
       "      <td>0</td>\n",
       "      <td>no</td>\n",
       "      <td>southwest</td>\n",
       "      <td>1682.59700</td>\n",
       "    </tr>\n",
       "    <tr>\n",
       "      <th>821</th>\n",
       "      <td>26</td>\n",
       "      <td>male</td>\n",
       "      <td>17.670</td>\n",
       "      <td>0</td>\n",
       "      <td>no</td>\n",
       "      <td>northwest</td>\n",
       "      <td>2680.94930</td>\n",
       "    </tr>\n",
       "  </tbody>\n",
       "</table>\n",
       "</div>"
      ],
      "text/plain": [
       "     age     sex     bmi  children smoker     region      charges\n",
       "759   18    male  38.170         0    yes  southeast  36307.79830\n",
       "219   24  female  23.210         0     no  southeast  25081.76784\n",
       "228   41  female  31.635         1     no  northeast   7358.17565\n",
       "888   22    male  39.500         0     no  southwest   1682.59700\n",
       "821   26    male  17.670         0     no  northwest   2680.94930"
      ]
     },
     "execution_count": 3,
     "metadata": {},
     "output_type": "execute_result"
    }
   ],
   "source": [
    "df.sample(5)"
   ]
  },
  {
   "cell_type": "code",
   "execution_count": 4,
   "id": "79d8ae53",
   "metadata": {
    "execution": {
     "iopub.execute_input": "2025-07-17T16:31:49.513729Z",
     "iopub.status.busy": "2025-07-17T16:31:49.513402Z",
     "iopub.status.idle": "2025-07-17T16:31:49.518066Z",
     "shell.execute_reply": "2025-07-17T16:31:49.517200Z"
    },
    "papermill": {
     "duration": 0.010301,
     "end_time": "2025-07-17T16:31:49.519814",
     "exception": false,
     "start_time": "2025-07-17T16:31:49.509513",
     "status": "completed"
    },
    "tags": []
   },
   "outputs": [],
   "source": [
    "df_feat = df.copy()"
   ]
  },
  {
   "cell_type": "code",
   "execution_count": 5,
   "id": "877419cc",
   "metadata": {
    "execution": {
     "iopub.execute_input": "2025-07-17T16:31:49.526993Z",
     "iopub.status.busy": "2025-07-17T16:31:49.526224Z",
     "iopub.status.idle": "2025-07-17T16:31:49.531260Z",
     "shell.execute_reply": "2025-07-17T16:31:49.530235Z"
    },
    "papermill": {
     "duration": 0.010187,
     "end_time": "2025-07-17T16:31:49.532888",
     "exception": false,
     "start_time": "2025-07-17T16:31:49.522701",
     "status": "completed"
    },
    "tags": []
   },
   "outputs": [],
   "source": [
    "def age_grp(age):\n",
    "    if age < 23:\n",
    "        return \"young\"\n",
    "    elif age < 45:\n",
    "        return \"adult\"\n",
    "    elif age < 60:\n",
    "        return \"middle_aged\"\n",
    "    return \"senior\""
   ]
  },
  {
   "cell_type": "code",
   "execution_count": 6,
   "id": "4246a2cc",
   "metadata": {
    "execution": {
     "iopub.execute_input": "2025-07-17T16:31:49.539681Z",
     "iopub.status.busy": "2025-07-17T16:31:49.539356Z",
     "iopub.status.idle": "2025-07-17T16:31:49.547235Z",
     "shell.execute_reply": "2025-07-17T16:31:49.546006Z"
    },
    "papermill": {
     "duration": 0.013126,
     "end_time": "2025-07-17T16:31:49.548928",
     "exception": false,
     "start_time": "2025-07-17T16:31:49.535802",
     "status": "completed"
    },
    "tags": []
   },
   "outputs": [],
   "source": [
    "df_feat[\"age_group\"] = df_feat[\"age\"].apply(age_grp)"
   ]
  },
  {
   "cell_type": "code",
   "execution_count": 7,
   "id": "242b6e4b",
   "metadata": {
    "execution": {
     "iopub.execute_input": "2025-07-17T16:31:49.555695Z",
     "iopub.status.busy": "2025-07-17T16:31:49.555372Z",
     "iopub.status.idle": "2025-07-17T16:31:49.560119Z",
     "shell.execute_reply": "2025-07-17T16:31:49.559241Z"
    },
    "papermill": {
     "duration": 0.010107,
     "end_time": "2025-07-17T16:31:49.561779",
     "exception": false,
     "start_time": "2025-07-17T16:31:49.551672",
     "status": "completed"
    },
    "tags": []
   },
   "outputs": [],
   "source": [
    "def lifestyle_risk(row):\n",
    "    if row[\"smoker\"] and row[\"bmi\"] > 30:\n",
    "        return \"high\"\n",
    "    elif row[\"smoker\"] or row[\"bmi\"] > 25:\n",
    "        return \"medium\"\n",
    "    else : \"low\""
   ]
  },
  {
   "cell_type": "code",
   "execution_count": 8,
   "id": "3e612612",
   "metadata": {
    "execution": {
     "iopub.execute_input": "2025-07-17T16:31:49.568448Z",
     "iopub.status.busy": "2025-07-17T16:31:49.568106Z",
     "iopub.status.idle": "2025-07-17T16:31:49.585230Z",
     "shell.execute_reply": "2025-07-17T16:31:49.584340Z"
    },
    "papermill": {
     "duration": 0.022194,
     "end_time": "2025-07-17T16:31:49.586724",
     "exception": false,
     "start_time": "2025-07-17T16:31:49.564530",
     "status": "completed"
    },
    "tags": []
   },
   "outputs": [],
   "source": [
    "df_feat[\"lifestyle_risk\"] = df_feat.apply(lifestyle_risk, axis=1)"
   ]
  },
  {
   "cell_type": "code",
   "execution_count": 9,
   "id": "4f7ba46b",
   "metadata": {
    "execution": {
     "iopub.execute_input": "2025-07-17T16:31:49.593907Z",
     "iopub.status.busy": "2025-07-17T16:31:49.593003Z",
     "iopub.status.idle": "2025-07-17T16:31:49.605352Z",
     "shell.execute_reply": "2025-07-17T16:31:49.604483Z"
    },
    "papermill": {
     "duration": 0.017247,
     "end_time": "2025-07-17T16:31:49.606743",
     "exception": false,
     "start_time": "2025-07-17T16:31:49.589496",
     "status": "completed"
    },
    "tags": []
   },
   "outputs": [
    {
     "data": {
      "text/html": [
       "<div>\n",
       "<style scoped>\n",
       "    .dataframe tbody tr th:only-of-type {\n",
       "        vertical-align: middle;\n",
       "    }\n",
       "\n",
       "    .dataframe tbody tr th {\n",
       "        vertical-align: top;\n",
       "    }\n",
       "\n",
       "    .dataframe thead th {\n",
       "        text-align: right;\n",
       "    }\n",
       "</style>\n",
       "<table border=\"1\" class=\"dataframe\">\n",
       "  <thead>\n",
       "    <tr style=\"text-align: right;\">\n",
       "      <th></th>\n",
       "      <th>age</th>\n",
       "      <th>sex</th>\n",
       "      <th>bmi</th>\n",
       "      <th>children</th>\n",
       "      <th>smoker</th>\n",
       "      <th>region</th>\n",
       "      <th>charges</th>\n",
       "      <th>age_group</th>\n",
       "      <th>lifestyle_risk</th>\n",
       "    </tr>\n",
       "  </thead>\n",
       "  <tbody>\n",
       "    <tr>\n",
       "      <th>1294</th>\n",
       "      <td>58</td>\n",
       "      <td>male</td>\n",
       "      <td>25.175</td>\n",
       "      <td>0</td>\n",
       "      <td>no</td>\n",
       "      <td>northeast</td>\n",
       "      <td>11931.12525</td>\n",
       "      <td>middle_aged</td>\n",
       "      <td>medium</td>\n",
       "    </tr>\n",
       "    <tr>\n",
       "      <th>312</th>\n",
       "      <td>43</td>\n",
       "      <td>male</td>\n",
       "      <td>35.970</td>\n",
       "      <td>3</td>\n",
       "      <td>yes</td>\n",
       "      <td>southeast</td>\n",
       "      <td>42124.51530</td>\n",
       "      <td>adult</td>\n",
       "      <td>high</td>\n",
       "    </tr>\n",
       "    <tr>\n",
       "      <th>253</th>\n",
       "      <td>27</td>\n",
       "      <td>male</td>\n",
       "      <td>30.300</td>\n",
       "      <td>3</td>\n",
       "      <td>no</td>\n",
       "      <td>southwest</td>\n",
       "      <td>4260.74400</td>\n",
       "      <td>adult</td>\n",
       "      <td>high</td>\n",
       "    </tr>\n",
       "    <tr>\n",
       "      <th>345</th>\n",
       "      <td>34</td>\n",
       "      <td>female</td>\n",
       "      <td>29.260</td>\n",
       "      <td>3</td>\n",
       "      <td>no</td>\n",
       "      <td>southeast</td>\n",
       "      <td>6184.29940</td>\n",
       "      <td>adult</td>\n",
       "      <td>medium</td>\n",
       "    </tr>\n",
       "    <tr>\n",
       "      <th>62</th>\n",
       "      <td>64</td>\n",
       "      <td>male</td>\n",
       "      <td>24.700</td>\n",
       "      <td>1</td>\n",
       "      <td>no</td>\n",
       "      <td>northwest</td>\n",
       "      <td>30166.61817</td>\n",
       "      <td>senior</td>\n",
       "      <td>medium</td>\n",
       "    </tr>\n",
       "  </tbody>\n",
       "</table>\n",
       "</div>"
      ],
      "text/plain": [
       "      age     sex     bmi  children smoker     region      charges  \\\n",
       "1294   58    male  25.175         0     no  northeast  11931.12525   \n",
       "312    43    male  35.970         3    yes  southeast  42124.51530   \n",
       "253    27    male  30.300         3     no  southwest   4260.74400   \n",
       "345    34  female  29.260         3     no  southeast   6184.29940   \n",
       "62     64    male  24.700         1     no  northwest  30166.61817   \n",
       "\n",
       "        age_group lifestyle_risk  \n",
       "1294  middle_aged         medium  \n",
       "312         adult           high  \n",
       "253         adult           high  \n",
       "345         adult         medium  \n",
       "62         senior         medium  "
      ]
     },
     "execution_count": 9,
     "metadata": {},
     "output_type": "execute_result"
    }
   ],
   "source": [
    "df_feat.sample(5)"
   ]
  },
  {
   "cell_type": "code",
   "execution_count": null,
   "id": "7ea101c9",
   "metadata": {
    "papermill": {
     "duration": 0.00271,
     "end_time": "2025-07-17T16:31:49.612437",
     "exception": false,
     "start_time": "2025-07-17T16:31:49.609727",
     "status": "completed"
    },
    "tags": []
   },
   "outputs": [],
   "source": []
  }
 ],
 "metadata": {
  "kaggle": {
   "accelerator": "none",
   "dataSources": [
    {
     "datasetId": 3852935,
     "sourceId": 6678394,
     "sourceType": "datasetVersion"
    }
   ],
   "dockerImageVersionId": 31089,
   "isGpuEnabled": false,
   "isInternetEnabled": true,
   "language": "python",
   "sourceType": "notebook"
  },
  "kernelspec": {
   "display_name": "Python 3",
   "language": "python",
   "name": "python3"
  },
  "language_info": {
   "codemirror_mode": {
    "name": "ipython",
    "version": 3
   },
   "file_extension": ".py",
   "mimetype": "text/x-python",
   "name": "python",
   "nbconvert_exporter": "python",
   "pygments_lexer": "ipython3",
   "version": "3.11.13"
  },
  "papermill": {
   "default_parameters": {},
   "duration": 7.714036,
   "end_time": "2025-07-17T16:31:50.134128",
   "environment_variables": {},
   "exception": null,
   "input_path": "__notebook__.ipynb",
   "output_path": "__notebook__.ipynb",
   "parameters": {},
   "start_time": "2025-07-17T16:31:42.420092",
   "version": "2.6.0"
  }
 },
 "nbformat": 4,
 "nbformat_minor": 5
}
